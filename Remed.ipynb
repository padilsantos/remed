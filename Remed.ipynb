{
  "nbformat": 4,
  "nbformat_minor": 0,
  "metadata": {
    "colab": {
      "provenance": [],
      "authorship_tag": "ABX9TyN160O8I0lycaqh7vzZJIjQ",
      "include_colab_link": true
    },
    "kernelspec": {
      "name": "python3",
      "display_name": "Python 3"
    },
    "language_info": {
      "name": "python"
    }
  },
  "cells": [
    {
      "cell_type": "markdown",
      "metadata": {
        "id": "view-in-github",
        "colab_type": "text"
      },
      "source": [
        "<a href=\"https://colab.research.google.com/github/padilsantos/remed/blob/main/Remed.ipynb\" target=\"_parent\"><img src=\"https://colab.research.google.com/assets/colab-badge.svg\" alt=\"Open In Colab\"/></a>"
      ]
    },
    {
      "cell_type": "code",
      "execution_count": 1,
      "metadata": {
        "colab": {
          "base_uri": "https://localhost:8080/"
        },
        "id": "J8OAKVjCtwLo",
        "outputId": "8b017fd2-14f3-40f3-b1e9-60e0be9c5728"
      },
      "outputs": [
        {
          "output_type": "stream",
          "name": "stdout",
          "text": [
            "['aldi', 'bintang', 'evi']\n"
          ]
        }
      ],
      "source": [
        "nama_acak = [\"evi\",\"aldi\",\"bintang\"]\n",
        "nama_acak.sort()\n",
        "print(nama_acak)"
      ]
    }
  ]
}